{
 "cells": [
  {
   "cell_type": "code",
   "execution_count": 9,
   "id": "fc948440-2c15-4c44-b27f-d4d8d9aa5a21",
   "metadata": {},
   "outputs": [],
   "source": [
    "# Task 4: Sentiment Analysis using NLP\n",
    "import pandas as pd\n",
    "import nltk\n",
    "from nltk.sentiment import SentimentIntensityAnalyzer\n"
   ]
  },
  {
   "cell_type": "code",
   "execution_count": 11,
   "id": "5ddf3d0c-b596-471c-a484-f4ca400f7cea",
   "metadata": {},
   "outputs": [],
   "source": [
    "# Ensure vader_lexicon is downloaded\n",
    "try:\n",
    "    nltk.data.find('sentiment/vader_lexicon.zip')\n",
    "except LookupError:\n",
    "    nltk.download('vader_lexicon')\n",
    "\n",
    "sia = SentimentIntensityAnalyzer()\n"
   ]
  },
  {
   "cell_type": "code",
   "execution_count": 13,
   "id": "d9e73add-e2f3-4a23-974e-44170bccd322",
   "metadata": {},
   "outputs": [],
   "source": [
    "# Load Titanic dataset for sentiment analysis\n",
    "titanic_reviews = [\n",
    "    \"The journey was comfortable, and the service was great!\",\n",
    "    \"The ship was overcrowded and lacked proper safety measures.\",\n",
    "    \"It was a decent experience overall, nothing exceptional.\",\n",
    "]\n"
   ]
  },
  {
   "cell_type": "code",
   "execution_count": 15,
   "id": "029ae650-a850-4de0-9eb7-6ac5e902602c",
   "metadata": {},
   "outputs": [
    {
     "name": "stdout",
     "output_type": "stream",
     "text": [
      "                                              Review  \\\n",
      "0  The journey was comfortable, and the service w...   \n",
      "1  The ship was overcrowded and lacked proper saf...   \n",
      "2  It was a decent experience overall, nothing ex...   \n",
      "\n",
      "                                           Sentiment  \n",
      "0  {'neg': 0.0, 'neu': 0.476, 'pos': 0.524, 'comp...  \n",
      "1  {'neg': 0.0, 'neu': 0.741, 'pos': 0.259, 'comp...  \n",
      "2  {'neg': 0.0, 'neu': 1.0, 'pos': 0.0, 'compound...  \n"
     ]
    }
   ],
   "source": [
    "# Perform Sentiment Analysis\n",
    "results = [{\"Review\": review, \"Sentiment\": sia.polarity_scores(review)} for review in titanic_reviews]\n",
    "df_results = pd.DataFrame(results)\n",
    "print(df_results)\n"
   ]
  },
  {
   "cell_type": "code",
   "execution_count": null,
   "id": "ea048e2d-c434-48db-8b65-2746619a879f",
   "metadata": {},
   "outputs": [],
   "source": []
  }
 ],
 "metadata": {
  "kernelspec": {
   "display_name": "Python [conda env:base] *",
   "language": "python",
   "name": "conda-base-py"
  },
  "language_info": {
   "codemirror_mode": {
    "name": "ipython",
    "version": 3
   },
   "file_extension": ".py",
   "mimetype": "text/x-python",
   "name": "python",
   "nbconvert_exporter": "python",
   "pygments_lexer": "ipython3",
   "version": "3.12.7"
  }
 },
 "nbformat": 4,
 "nbformat_minor": 5
}
